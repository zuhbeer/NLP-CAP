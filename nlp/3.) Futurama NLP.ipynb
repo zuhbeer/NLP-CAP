{
 "cells": [
  {
   "cell_type": "code",
   "execution_count": 1,
   "metadata": {
    "collapsed": true
   },
   "outputs": [],
   "source": [
    "%matplotlib inline\n",
    "import matplotlib.pyplot as plt\n",
    "import requests, re, spacy\n",
    "nlp = spacy.load('en')\n",
    "import numpy as np\n",
    "from itertools import product\n",
    "from bs4 import BeautifulSoup\n",
    "from collections import defaultdict\n",
    "from nltk.corpus import stopwords\n",
    "from IPython.display import HTML\n",
    "from sklearn.feature_extraction.text import TfidfVectorizer\n",
    "from sklearn.naive_bayes import MultinomialNB\n",
    "from sklearn.ensemble import RandomForestClassifier\n",
    "from sklearn.model_selection import train_test_split\n",
    "from sklearn.metrics import roc_curve"
   ]
  },
  {
   "cell_type": "markdown",
   "metadata": {},
   "source": [
    "<h2>Welcome to NLP of the FUTURE(ama)!</h2>\n",
    "<p>Today, we'll be doing some NLP on the first 5 seasons worth of text from Futurama.  We'll first aquire the data via web scrape, do NLP type cleaning and tokenizing, then compare the Naive Bayes and RF algorythms for classifying if a line was said by Bender Bending Rodriguez.</p>"
   ]
  },
  {
   "cell_type": "code",
   "execution_count": 2,
   "metadata": {
    "collapsed": true
   },
   "outputs": [],
   "source": [
    "url_base = \"http://www.imsdb.com\"\n",
    "url_stem = \"http://www.imsdb.com/TV/Futurama.html\"\n",
    "req = requests.get(url_stem)\n",
    "soup = BeautifulSoup(req.content, 'html.parser')"
   ]
  },
  {
   "cell_type": "markdown",
   "metadata": {},
   "source": [
    "<h3>Helper Functions</h3>\n",
    "<p>Here we define the functions for scraping the data and cleaning the text.  Let's get it running (as it does take a few minutes).</p>"
   ]
  },
  {
   "cell_type": "code",
   "execution_count": 3,
   "metadata": {
    "collapsed": true
   },
   "outputs": [],
   "source": [
    "def get_script_soup(script_url):\n",
    "    '''\n",
    "    get_script_soup\n",
    "    \n",
    "    input: script_url (str) - URL from master link page\n",
    "    output: BS4 object - The soup object for the script page.\n",
    "    \n",
    "    The actual script texts are from a secondary link off of the master link page.\n",
    "    This is a helper function that takes a script url from the master link page, \n",
    "    and goes down two levels to get the script text bs4 object.\n",
    "    '''\n",
    "    script_wrapper_soup = BeautifulSoup(requests.get(script_url).content, 'html.parser')\n",
    "    script_url = script_wrapper_soup\\\n",
    "                    .find_all(\"table\", {\"class\": \"script-details\"})[0]\\\n",
    "                    .find_all('a')[-1]\\\n",
    "                    .attrs['href']\n",
    "    return BeautifulSoup(requests.get(url_base + script_url).content, 'html.parser')\n",
    "\n",
    "def clean_line(line):\n",
    "    '''\n",
    "    clean_line\n",
    "    \n",
    "    input: line (str) - a line from the script\n",
    "    return: list of cleaned, lemetized tokens\n",
    "    \n",
    "    This does all the NLP preprocessing:\n",
    "        * lower text\n",
    "        * split on special characters, while removing annotations\n",
    "        * remove stop words\n",
    "        * perform lemmetization\n",
    "    '''\n",
    "    line = line.lower()\n",
    "    line = [x for x in re.findall(r\"[\\w()']+\", line) if x[0] != \"(\" and x[-1] != \")\"]\n",
    "    s_stop = set(stopwords.words())\n",
    "    line = ' '.join([word for word in line if word not in s_stop])\n",
    "    return [token.lemma_ for token in nlp(line)]\n",
    "\n",
    "def lines_by_character(script_soup, b_first):\n",
    "    '''\n",
    "    lines_by_character\n",
    "    \n",
    "    input:\n",
    "        * script_soup (BS4 object) - The BS4 object of the script text page\n",
    "        * b_first (bool) - If it's the first episode.  Bender is introduced as \"ROBOT\",\n",
    "                            and I hope to preserve as many of his lines as possible.\n",
    "    return: dict - a dictionary where the key is the character that said it, and the value\n",
    "                    is the lines in this episode.\n",
    "    '''\n",
    "    script_text = script_soup.find_all('td', {\"class\": \"scrtext\"})[0].find('body').text.split('\\n')\n",
    "    character = None\n",
    "    b_actions = False\n",
    "    d_lines = defaultdict(list)\n",
    "    cur_line = ''\n",
    "    for line in [x.strip() for x in script_text if x.strip() != ''][6:]:\n",
    "        if line == line.upper():\n",
    "            d_lines[character].append(cur_line)\n",
    "            cur_line = \"\"\n",
    "            character = line\n",
    "            if b_first == True and character == 'ROBOT':\n",
    "                character = 'BENDER'\n",
    "            continue\n",
    "        if character == None:\n",
    "            continue\n",
    "        if line[0] == \"[\" and line[-1] == \"]\":\n",
    "            continue\n",
    "        if line[0] == \"[\":\n",
    "            b_actions = True\n",
    "        if b_actions == True:\n",
    "            if line[-1] == \"]\":\n",
    "                b_actions = False\n",
    "            continue\n",
    "        cur_line += \" \" + line\n",
    "    return d_lines\n",
    "\n",
    "def merge_dols(dol1, dol2):\n",
    "    ks = set(dol1).union(dol2)\n",
    "    no = []\n",
    "    return dict((k, dol1.get(k, no) + dol2.get(k, no)) for k in ks)\n",
    "\n",
    "def flatten_sublist(l_in):\n",
    "    return [item for sublist in l_in for item in sublist]"
   ]
  },
  {
   "cell_type": "markdown",
   "metadata": {},
   "source": [
    "<h3>And here is where I call these functions</h3>"
   ]
  },
  {
   "cell_type": "code",
   "execution_count": 4,
   "metadata": {},
   "outputs": [
    {
     "data": {
      "text/html": [
       "<img src=\"images/happy_robot.gif\">"
      ],
      "text/plain": [
       "<IPython.core.display.HTML object>"
      ]
     },
     "execution_count": 4,
     "metadata": {},
     "output_type": "execute_result"
    }
   ],
   "source": [
    "HTML('<img src=\"images/happy_robot.gif\">')"
   ]
  },
  {
   "cell_type": "code",
   "execution_count": 5,
   "metadata": {},
   "outputs": [
    {
     "name": "stdout",
     "output_type": "stream",
     "text": [
      "Space Pilot 3000 Script\n",
      "The Series Has Landed Script\n",
      "I, Roommate Script\n",
      "Love's Labours Lost In Space Script\n",
      "Fear Of A Bot Planet Script\n",
      "A Fishful Of Dollars Script\n",
      "My Three Suns Script\n",
      "A Big Piece Of Garbage Script\n",
      "Hell Is Other Robots Script\n",
      "A Flight To Remember Script\n",
      "Mars University Script\n",
      "When Aliens Attack Script\n",
      "Fry And The Slurm Factory Script\n",
      "I Second That Emotion Script\n",
      "Brannigan, Begin Again Script\n",
      "A Head In The Polls Script\n",
      "Xmas Story Script\n",
      "Why Must I Be A Crustacean In Love Script\n",
      "Put Your Head On My Shoulder Script\n",
      "The Lesser Of Two Evils Script\n",
      "Raging Bender Script\n",
      "A Bicyclops Built For Two Script\n",
      "How Hermes Requisitioned His Groove Back Script\n",
      "A Clone Of My Own Script\n",
      "The Deep South Script\n",
      "Bender Gets Made Script\n",
      "The Problem With Popplers Script\n",
      "Mother's Day Script\n",
      "Anthlogy Of Interest I Script\n",
      "The Honking Script\n",
      "War Is The H Word Script\n",
      "The Cryonic Woman Script\n",
      "Parasites Lost Script\n",
      "Amazon Women In The Mood Script\n",
      "Bendless Love Script\n",
      "The Day The Earth Stood Stupid Script\n",
      "That's Lobstertainment! Script\n",
      "The Birdbot Of IceCatraz Script\n",
      "Luck Of The Fryrish Script\n",
      "The Cyber House Rules Script\n",
      "Insane In The Mainframe Script\n",
      "Bendin' In The Wind Script\n",
      "Time Keeps On Slipping Script\n",
      "I Dated A Robot Script\n",
      "Roswell That Ends Well Script\n",
      "A Tale Of Two Santas Script\n",
      "Anthology Of Interest II Script\n",
      "Love And Rocket Script\n",
      "Leela's Homeworld Script\n",
      "Where The Buggalo Roam Script\n",
      "A Pharaoh To Remember Script\n",
      "Godfellas Script\n",
      "Future Stock Script\n",
      "A Leela Of Her Own Script\n",
      "30 Percent Iron Chef Script\n",
      "Where No Fan Has Gone Before Script\n",
      "Crimes Of The Hot Script\n",
      "Jurassic Bark Script\n",
      "The Route Of All Evil Script\n",
      "A Taste Of Freedom Script\n",
      "Kif Gets Knocked Up A Notch Script\n",
      "Less Than Hero Script\n",
      "Teenage Mutant Leela's Hurdles Script\n",
      "The Why Of Fry Script\n",
      "The Sting Script\n",
      "The Farnsworth Parabox Script\n",
      "Three Hundred Big Boys Script\n",
      "Spanish Fry Script\n",
      "Bend Her Script\n",
      "Obsoletely Fabulous Script\n",
      "Bender Should Not Be Allowed On Tv Script\n",
      "The Devil's Hands Are Idle Playthings Script\n"
     ]
    }
   ],
   "source": [
    "d_all_lines = {}\n",
    "for td in soup.find_all('td'):\n",
    "    if td.find('h1') == None or td.find('h1').text != \"Futurama Transcripts\":\n",
    "        continue\n",
    "    for a in td.find('a'):\n",
    "        if a.title() == '#':\n",
    "            continue\n",
    "        for aa in td.find_all('a'):\n",
    "            print(aa.attrs['title'])\n",
    "            script_soup = get_script_soup(url_stem + aa.attrs['href'].replace(\" \", \"%20\"))\n",
    "            d_script_lines = lines_by_character(script_soup, aa.attrs['title']=='Space Pilot 3000 Script')\n",
    "            d_all_lines = merge_dols(d_all_lines, d_script_lines)"
   ]
  },
  {
   "cell_type": "markdown",
   "metadata": {},
   "source": [
    "<h2>A (very) Little EDA</h2>\n",
    "<p>As always we're going to look at what we have now.  I've already done a lot to clean the data, but it's good to look at what we have now.</p>"
   ]
  },
  {
   "cell_type": "code",
   "execution_count": 6,
   "metadata": {},
   "outputs": [
    {
     "name": "stdout",
     "output_type": "stream",
     "text": [
      "963\n"
     ]
    }
   ],
   "source": [
    "print(len(d_all_lines.keys()))"
   ]
  },
  {
   "cell_type": "code",
   "execution_count": 7,
   "metadata": {},
   "outputs": [
    {
     "name": "stdout",
     "output_type": "stream",
     "text": [
      "10 ('like', 120)\n",
      "9 (\"'s\", 126)\n",
      "8 ('hey', 153)\n",
      "7 ('will', 165)\n",
      "6 ('do', 170)\n",
      "5 ('oh', 179)\n",
      "4 ('go', 187)\n",
      "3 ('get', 237)\n",
      "2 ('not', 287)\n",
      "1 ('be', 825)\n"
     ]
    },
    {
     "data": {
      "text/plain": [
       "1"
      ]
     },
     "execution_count": 7,
     "metadata": {},
     "output_type": "execute_result"
    }
   ],
   "source": [
    "from collections import Counter\n",
    "c = Counter(flatten_sublist([clean_line(x) for x in d_all_lines['BENDER']]))\n",
    "l_tt = list(sorted(filter(lambda x: x[0]!= '-PRON-', c.items()), key=lambda x: x[1], reverse=True))[:10]\n",
    "for i in range(10):\n",
    "    print(10-i, l_tt[9-i])\n",
    "    \n",
    "c['chumpette']"
   ]
  },
  {
   "cell_type": "markdown",
   "metadata": {},
   "source": [
    "<h2>Now to create the vectorized dataset</h2>\n",
    "<p>We now will build a TF-IDF Vectorizer to create data from our text, and create an actual dataset with train-test splits.</p>"
   ]
  },
  {
   "cell_type": "code",
   "execution_count": 8,
   "metadata": {},
   "outputs": [
    {
     "data": {
      "text/html": [
       "<img src=\"images/happy_robot.gif\">"
      ],
      "text/plain": [
       "<IPython.core.display.HTML object>"
      ]
     },
     "execution_count": 8,
     "metadata": {},
     "output_type": "execute_result"
    }
   ],
   "source": [
    "HTML('<img src=\"images/happy_robot.gif\">')"
   ]
  },
  {
   "cell_type": "code",
   "execution_count": 12,
   "metadata": {
    "collapsed": true
   },
   "outputs": [],
   "source": [
    "#flatten data and label 1 if it comes from bender, 0 otherwise\n",
    "data = np.array(flatten_sublist([product([1 if k=='BENDER' else 0], v) for k, v in d_all_lines.items()]))\n",
    "\n",
    "from sklearn.feature_extraction.text import CountVectorizer\n",
    "tfidf_vectorizer = TfidfVectorizer(max_df=0.95, min_df=2, analyzer=clean_line)\n",
    "tfidf = tfidf_vectorizer.fit_transform(data[:, 1])\n",
    "\n",
    "#count_vectorizer = CountVectorizer(max_df=0.95, min_df=2, analyzer=clean_line)\n",
    "#tfidf = count_vectorizer.fit_transform(data[:, 1])\n",
    "\n",
    "\n",
    "X_train, X_test, y_train, y_test = train_test_split(tfidf, data[:, 0],\\\n",
    "                                                    test_size=0.2, random_state=42)"
   ]
  },
  {
   "cell_type": "markdown",
   "metadata": {},
   "source": [
    "<h2>STOP!!!</h2>\n",
    "What is wrong in the above cell?\n",
    "\n",
    "<h2>Head to head algorythms!</h2>\n",
    "<p>We'll test our newly learned Naive Bayes against a Random Forest</p>"
   ]
  },
  {
   "cell_type": "code",
   "execution_count": 13,
   "metadata": {
    "collapsed": true
   },
   "outputs": [],
   "source": [
    "#Naive Bayes with alpha = 1\n",
    "nb_a1 = MultinomialNB()\n",
    "nb_a1.fit(X_train, y_train)\n",
    "\n",
    "#Naive Bayes with alpha = 0.1\n",
    "nb_ap1 = MultinomialNB(alpha=.1)\n",
    "nb_ap1.fit(X_train, y_train)\n",
    "\n",
    "#Naive Bayes with alpha = 0.0001\n",
    "nb_a0 = MultinomialNB(alpha=0.0001)\n",
    "nb_a0.fit(X_train, y_train)\n",
    "\n",
    "#Random Forest with no max depth\n",
    "#rf_nd = RandomForestClassifier(n_estimators=60)\n",
    "#rf_nd.fit(X_train, y_train)\n",
    "\n",
    "#Random Forest with max depth = 10\n",
    "rf_d10 = RandomForestClassifier(n_estimators=60, max_depth=10)\n",
    "_ = rf_d10.fit(X_train, y_train)"
   ]
  },
  {
   "cell_type": "code",
   "execution_count": 14,
   "metadata": {},
   "outputs": [
    {
     "data": {
      "image/png": "[encoded data removed]",
      "text/plain": [
       "<Figure size 432x288 with 1 Axes>"
      ]
     },
     "metadata": {},
     "output_type": "display_data"
    }
   ],
   "source": [
    "# roc_a1  = roc_curve(y_test, nb_a1.predict_proba(X_test)[:,1], pos_label='1')\n",
    "# roc_ap1 = roc_curve(y_test, nb_ap1.predict_proba(X_test)[:,1], pos_label='1')\n",
    "# roc_a0 = roc_curve(y_test, nb_a0.predict_proba(X_test)[:,1], pos_label='1')\n",
    "#roc_nd = roc_curve(y_test, rf_nd.predict_proba(X_test)[:,1], pos_label='1')\n",
    "roc_d10 = roc_curve(y_test, rf_d10.predict_proba(X_test)[:,1], pos_label='1')\n",
    "\n",
    "plt.figure()\n",
    "lw = 2\n",
    "plt.plot(roc_a1[0], roc_a1[1], color='darkorange',\n",
    "         lw=lw, label='Naive Bayes, Alpha=1.0')\n",
    "plt.plot(roc_ap1[0], roc_ap1[1], color='navy',\n",
    "         lw=lw, label='Naive Bayes, Alpha=0.1')\n",
    "plt.plot(roc_a0[0], roc_a0[1], color='g',\n",
    "         lw=lw, label='Naive Bayes, Alpha=0')\n",
    "#plt.plot(roc_nd[0], roc_nd[1], color='r',\n",
    "#         lw=lw, label='Random Forest')\n",
    "plt.plot(roc_d10[0], roc_d10[1], color='c',\n",
    "         lw=lw, label='Random Forest, max depth=10')\n",
    "plt.plot([0, 1], [0, 1], color='black', lw=lw, linestyle='--')\n",
    "plt.xlim([0.0, 1.0])\n",
    "plt.ylim([0.0, 1.05])\n",
    "plt.xlabel('False Positive Rate')\n",
    "plt.ylabel('True Positive Rate')\n",
    "plt.title('Receiver operating characteristic example')\n",
    "plt.legend(loc=\"lower right\")\n",
    "plt.show()"
   ]
  },
  {
   "cell_type": "code",
   "execution_count": null,
   "metadata": {
    "collapsed": true
   },
   "outputs": [],
   "source": []
  }
 ],
 "metadata": {
  "kernelspec": {
   "display_name": "Python 3",
   "language": "python",
   "name": "python3"
  },
  "language_info": {
   "codemirror_mode": {
    "name": "ipython",
    "version": 3
   },
   "file_extension": ".py",
   "mimetype": "text/x-python",
   "name": "python",
   "nbconvert_exporter": "python",
   "pygments_lexer": "ipython3",
   "version": "3.7.3"
  }
 },
 "nbformat": 4,
 "nbformat_minor": 2
}
