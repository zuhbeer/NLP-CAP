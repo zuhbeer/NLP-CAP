{
 "cells": [
  {
   "cell_type": "code",
   "execution_count": null,
   "metadata": {
    "collapsed": true
   },
   "outputs": [],
   "source": [
    "from sklearn.datasets import fetch_20newsgroups\n",
    "from sklearn.neighbors import KNeighborsClassifier\n",
    "from sklearn.model_selection import train_test_split\n",
    "from sklearn.metrics import accuracy_score\n",
    "from nltk.corpus import stopwords\n",
    "import numpy as np\n",
    "import re\n",
    "from pprint import pprint"
   ]
  },
  {
   "cell_type": "code",
   "execution_count": null,
   "metadata": {
    "collapsed": true
   },
   "outputs": [],
   "source": [
    "dataset = fetch_20newsgroups(shuffle=True, random_state=1, remove=('headers', 'footers', 'quotes'))\n",
    "X = dataset.data\n",
    "y = dataset.target\n",
    "X_train, X_test, y_train, y_test = train_test_split(X, y, test_size=0.33, random_state=13)"
   ]
  },
  {
   "cell_type": "code",
   "execution_count": null,
   "metadata": {
    "collapsed": true
   },
   "outputs": [],
   "source": [
    "def bow(documents, stop=[]):\n",
    "    '''\n",
    "    bow: creates a dictionary for assigning making a BOW index assignment\n",
    "    pars:\n",
    "    documents -> a text corpus\n",
    "    stop -> a list (or set) of stopwords\n",
    "    returns:\n",
    "    d_bow -> a dictionary mapping a word to it's array position\n",
    "    '''\n",
    "    pass"
   ]
  },
  {
   "cell_type": "markdown",
   "metadata": {},
   "source": [
    "\n",
    "<details>\n",
    "<summary><b>A solution</b></summary>\n",
    "<code>\n",
    "def bow(documents, stop=[]):\n",
    "    '''\n",
    "    bow: creates a dictionary for assigning making a BOW index assignment\n",
    "    pars:\n",
    "    documents -> a text corpus\n",
    "    stop -> a list (or set) of stopwords\n",
    "    returns:\n",
    "    d_bow -> a dictionary mapping a word to it's array position\n",
    "    '''\n",
    "    d_bow, max_ind, stop = {}, 0, set(stop)\n",
    "    strip_chars = \".?,!;:\\\"'()\"\n",
    "    rgx = re.compile('[%s]' % strip_chars)\n",
    "    for doc in documents:\n",
    "        for word in doc.lower().split():\n",
    "            word = rgx.sub('', word)\n",
    "            if word not in d_bow and word not in stop:\n",
    "                d_bow[word] = max_ind\n",
    "                max_ind += 1\n",
    "    return d_bow\n",
    "</code>\n",
    "</details>"
   ]
  },
  {
   "cell_type": "code",
   "execution_count": null,
   "metadata": {
    "collapsed": true
   },
   "outputs": [],
   "source": [
    "def use_bow(documents, d_bow):\n",
    "    '''\n",
    "    create a document-term matrix based on text corpus\n",
    "    pars:\n",
    "    documents -> a text corpus\n",
    "    d_bow -> a dictionary for a BOW representation of text, indicating the index for a word\n",
    "    returns:\n",
    "    an nxp matrix, where n is the number of documents, and p is the number of features in the corpus\n",
    "    '''\n",
    "    pass"
   ]
  },
  {
   "cell_type": "markdown",
   "metadata": {},
   "source": [
    "\n",
    "<details>\n",
    "<summary><b>A solution</b></summary>\n",
    "<code>\n",
    "def use_bow(documents, d_bow):\n",
    "    '''\n",
    "    create a document-term matrix based on text corpus\n",
    "    pars:\n",
    "    documents -> a text corpus\n",
    "    d_bow -> a dictionary for a BOW representation of text, indicating the index for a word\n",
    "    returns:\n",
    "    an nxp matrix, where n is the number of documents, and p is the number of features in the corpus\n",
    "    '''\n",
    "    strip_chars = \".?,!;:\\\"'()\"\n",
    "    rgx = re.compile('[%s]' % strip_chars)\n",
    "    data = np.zeros((len(documents), len(d_bow)))\n",
    "    for i in range(len(documents)):\n",
    "        for word in documents[i].lower().split():\n",
    "            word = rgx.sub('', word)\n",
    "            if word in d_bow:\n",
    "                data[i, d_bow[word]] = 1 + data[i, d_bow[word]]\n",
    "    return data\n",
    "\n",
    "</code>\n",
    "</details>"
   ]
  },
  {
   "cell_type": "code",
   "execution_count": null,
   "metadata": {},
   "outputs": [],
   "source": [
    "d_naive_bow = bow(X_train)\n",
    "X_train_bow, X_test_bow = use_bow(X_train, d_naive_bow), use_bow(X_test, d_naive_bow)\n",
    "print(X_train_bow.shape)\n",
    "#pprint(list(d_naive_bow.items())[:300])"
   ]
  },
  {
   "cell_type": "code",
   "execution_count": null,
   "metadata": {},
   "outputs": [],
   "source": [
    "knn = KNeighborsClassifier(n_neighbors=50)\n",
    "knn.fit(X_train_bow, y_train)"
   ]
  },
  {
   "cell_type": "code",
   "execution_count": null,
   "metadata": {
    "collapsed": true
   },
   "outputs": [],
   "source": [
    "accuracy_score(y_test, knn.predict(X_test_bow))"
   ]
  }
 ],
 "metadata": {
  "kernelspec": {
   "display_name": "Python 3",
   "language": "python",
   "name": "python3"
  },
  "language_info": {
   "codemirror_mode": {
    "name": "ipython",
    "version": 3
   },
   "file_extension": ".py",
   "mimetype": "text/x-python",
   "name": "python",
   "nbconvert_exporter": "python",
   "pygments_lexer": "ipython3",
   "version": "3.6.8"
  }
 },
 "nbformat": 4,
 "nbformat_minor": 2
}
