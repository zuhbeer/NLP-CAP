{
 "cells": [
  {
   "cell_type": "code",
   "execution_count": 190,
   "metadata": {},
   "outputs": [],
   "source": [
    "import numpy as np # linear algebra\n",
    "import pandas as pd # data processing, CSV file I/O (e.g. pd.read_csv)\n",
    "from sklearn.model_selection import train_test_split # function for splitting data to train and test sets\n",
    "\n",
    "import nltk\n",
    "from nltk.corpus import stopwords\n",
    "from nltk.classify import SklearnClassifier\n",
    "\n",
    "import matplotlib.pyplot as plt\n",
    "%matplotlib inline\n",
    "\n",
    "from itertools import product\n",
    "from collections import defaultdict\n",
    "from IPython.display import HTML\n",
    "from sklearn.feature_extraction.text import CountVectorizer, TfidfVectorizer\n",
    "from sklearn.naive_bayes import MultinomialNB\n",
    "from sklearn.ensemble import RandomForestClassifier\n",
    "from sklearn.metrics import roc_curve\n",
    "\n",
    "# Input data files are available in the \"../input/\" directory.\n",
    "# For example, running this (by clicking run or pressing Shift+Enter) will list the files in the input directory\n",
    "\n",
    "from subprocess import check_output\n",
    "import glob\n",
    "import requests, re, spacy\n",
    "nlp = spacy.load('en')"
   ]
  },
  {
   "cell_type": "markdown",
   "metadata": {},
   "source": [
    "#### i fudged up, I pushed this 50k dataset to github and it truncated it to only 1000 reviews each\n",
    "#### so i'm pulling these from my local ( \"NLP-CAP/aclImdb/Train/neg/*.txt\") should i make a new repo?"
   ]
  },
  {
   "cell_type": "code",
   "execution_count": 152,
   "metadata": {},
   "outputs": [
    {
     "data": {
      "text/plain": [
       "'/Users/hemingway/Desktop/Galvanize/NLP-CAP/aclImdb'"
      ]
     },
     "execution_count": 152,
     "metadata": {},
     "output_type": "execute_result"
    }
   ],
   "source": [
    "import os\n",
    "os.getcwd()"
   ]
  },
  {
   "cell_type": "markdown",
   "metadata": {},
   "source": [
    "#### creating a list of file names to call/open since the reviews are all different txt files in a folder"
   ]
  },
  {
   "cell_type": "code",
   "execution_count": 153,
   "metadata": {},
   "outputs": [
    {
     "data": {
      "text/plain": [
       "('Train/pos/4715_9.txt', 'Train/neg/1821_4.txt')"
      ]
     },
     "execution_count": 153,
     "metadata": {},
     "output_type": "execute_result"
    }
   ],
   "source": [
    "pos = glob.glob(\"Train/pos/*.txt\") #globglob\n",
    "neg = glob.glob(\"Train/neg/*.txt\") #glob\n",
    "pos[0],neg[0]"
   ]
  },
  {
   "cell_type": "code",
   "execution_count": 154,
   "metadata": {},
   "outputs": [],
   "source": [
    "#'two pos lists: reviews, and scores (scores labelled in filename)'\n",
    "pos_reviews = []\n",
    "pos_scores = []\n",
    "for i in range(len(pos)):\n",
    "                                    #read files\n",
    "    x = open(pos[i],'r')\n",
    "    content = x.read()\n",
    "    pos_reviews.append(content)\n",
    "                                    #read scores\n",
    "    a = pos[i].split('_')\n",
    "    b = a[1].split('.txt')\n",
    "    c = [int(s) for s in b if s.isdigit()]\n",
    "    pos_scores.append(c[0])"
   ]
  },
  {
   "cell_type": "code",
   "execution_count": 155,
   "metadata": {},
   "outputs": [],
   "source": [
    "#'same same, but different'\n",
    "neg_reviews = []\n",
    "neg_scores = []\n",
    "for i in range(len(neg)):\n",
    "    \n",
    "    x = open(neg[i],'r')\n",
    "    content = x.read()\n",
    "    neg_reviews.append(content)\n",
    "    \n",
    "    a = neg[i].split('_')\n",
    "    b = a[1].split('.txt')\n",
    "    c = [int(s) for s in b if s.isdigit()]\n",
    "    neg_scores.append(c[0])"
   ]
  },
  {
   "cell_type": "code",
   "execution_count": 490,
   "metadata": {},
   "outputs": [
    {
     "data": {
      "text/plain": [
       "'This is the biggest piece of lamo I\\'ve ever watched. It is excruciatingly boring I would have rather sat through a seminar on creationism than have watched this if i had known it was going to be as boring as it was. Not even the 40 seconds of the hot chick in the bikini with the big ta tas redeems this of anything lower than a 1.<br /><br />The reviews of this movie claiming that this movie is \"unintentionally funny\" are absurd and just plain WRONG. Not one thing is funny about this movie. they spend the first 50 or so minutes walking through the woods talking about stuff you wouldn\\'t understand nor care about and it is just as lame when the people start dying because you don\\'t even know who the people are because they are so UNINTERESTING. Honestly though, I didn\\'t watch it to the ending, but that should say something about how horrible it is. WORST MOVIE EVER.<br /><br />Immediately after ejecting this filth from my DVD player I started scraping it against the cement in front of my house, not wanting other blockbuster customers to have to fall upon the same mistake i had made as to rent this movie. Then Zach peed his pants. Thankyou for your time.'"
      ]
     },
     "execution_count": 490,
     "metadata": {},
     "output_type": "execute_result"
    }
   ],
   "source": [
    "neg_reviews[42]"
   ]
  },
  {
   "cell_type": "code",
   "execution_count": 156,
   "metadata": {},
   "outputs": [],
   "source": [
    "def clean_line(line):\n",
    "    '''\n",
    "    clean_line\n",
    "    \n",
    "    input: line (str) - a line from the script\n",
    "    return: list of cleaned, lemetized tokens\n",
    "    \n",
    "    This does all the NLP preprocessing:\n",
    "        * lower text\n",
    "        * split on special characters, while removing annotations\n",
    "        * remove stop words\n",
    "        * perform lemmetization\n",
    "        *** MIGHT REMOVE IMPORTANT WORDS IDK MAN\n",
    "    '''\n",
    "    line = line.lower()\n",
    "    line = [x for x in re.findall(r\"[\\w()']+\", line) if x[0] != \"(\" and x[-1] != \")\"]\n",
    "    s_stop = set(stopwords.words())\n",
    "    line = ' '.join([word for word in line if word not in s_stop])\n",
    "    return [token.lemma_ for token in nlp(line)]"
   ]
  },
  {
   "cell_type": "markdown",
   "metadata": {},
   "source": [
    "#### cleaning reviews and assigning it to a new list\n",
    "#### these cells take a few minutes to run"
   ]
  },
  {
   "cell_type": "code",
   "execution_count": 144,
   "metadata": {},
   "outputs": [],
   "source": [
    "p = []\n",
    "for i in range(len(pos)):\n",
    "    p.append(clean_line(pos_reviews[i]))"
   ]
  },
  {
   "cell_type": "code",
   "execution_count": 158,
   "metadata": {},
   "outputs": [],
   "source": [
    "n = []\n",
    "for i in range(len(neg)):\n",
    "    n.append(clean_line(neg_reviews[i]))"
   ]
  },
  {
   "cell_type": "markdown",
   "metadata": {},
   "source": [
    "#### joining the lists of lists to feed into a single column in a dataframe; same for scores."
   ]
  },
  {
   "cell_type": "code",
   "execution_count": 204,
   "metadata": {},
   "outputs": [],
   "source": [
    "#reviews and scores\n",
    "r = p + n\n",
    "s = pos_scores + neg_scores"
   ]
  },
  {
   "cell_type": "code",
   "execution_count": 205,
   "metadata": {},
   "outputs": [],
   "source": [
    "#binary list\n",
    "b = []\n",
    "for x in s:\n",
    "    if x > 5:\n",
    "        b.append(1)\n",
    "    else:\n",
    "        b.append(0)\n"
   ]
  },
  {
   "cell_type": "markdown",
   "metadata": {},
   "source": [
    "#### made a DF with reviews and corresponding scores, also adding binary column for good or bad"
   ]
  },
  {
   "cell_type": "code",
   "execution_count": 206,
   "metadata": {},
   "outputs": [],
   "source": [
    "Movies = pd.DataFrame({'Reviews':r})\n",
    "Movies['Scores'] = s\n",
    "Movies['Binary'] = b"
   ]
  },
  {
   "cell_type": "code",
   "execution_count": 262,
   "metadata": {},
   "outputs": [],
   "source": [
    "Movies['Review_String'] = [' '.join(i) for i in Movies['Reviews']]"
   ]
  },
  {
   "cell_type": "code",
   "execution_count": 495,
   "metadata": {},
   "outputs": [
    {
     "data": {
      "text/html": [
       "<div>\n",
       "<style scoped>\n",
       "    .dataframe tbody tr th:only-of-type {\n",
       "        vertical-align: middle;\n",
       "    }\n",
       "\n",
       "    .dataframe tbody tr th {\n",
       "        vertical-align: top;\n",
       "    }\n",
       "\n",
       "    .dataframe thead th {\n",
       "        text-align: right;\n",
       "    }\n",
       "</style>\n",
       "<table border=\"1\" class=\"dataframe\">\n",
       "  <thead>\n",
       "    <tr style=\"text-align: right;\">\n",
       "      <th></th>\n",
       "      <th>Scores</th>\n",
       "      <th>Binary</th>\n",
       "      <th>Review_String</th>\n",
       "      <th>length</th>\n",
       "    </tr>\n",
       "  </thead>\n",
       "  <tbody>\n",
       "    <tr>\n",
       "      <th>20149</th>\n",
       "      <td>3</td>\n",
       "      <td>0</td>\n",
       "      <td>movie terrible good effect</td>\n",
       "      <td>26</td>\n",
       "    </tr>\n",
       "    <tr>\n",
       "      <th>17753</th>\n",
       "      <td>1</td>\n",
       "      <td>0</td>\n",
       "      <td>rent even dollar rental night</td>\n",
       "      <td>29</td>\n",
       "    </tr>\n",
       "    <tr>\n",
       "      <th>22998</th>\n",
       "      <td>1</td>\n",
       "      <td>0</td>\n",
       "      <td>me merciless little bardwork movie foul</td>\n",
       "      <td>39</td>\n",
       "    </tr>\n",
       "    <tr>\n",
       "      <th>14128</th>\n",
       "      <td>3</td>\n",
       "      <td>0</td>\n",
       "      <td>better choose paul verhoeven 's even watch</td>\n",
       "      <td>42</td>\n",
       "    </tr>\n",
       "    <tr>\n",
       "      <th>7361</th>\n",
       "      <td>10</td>\n",
       "      <td>1</td>\n",
       "      <td>know like movie well never get tired watching</td>\n",
       "      <td>45</td>\n",
       "    </tr>\n",
       "    <tr>\n",
       "      <th>10043</th>\n",
       "      <td>9</td>\n",
       "      <td>1</td>\n",
       "      <td>adrian pasdar excellent film make fascinating ...</td>\n",
       "      <td>51</td>\n",
       "    </tr>\n",
       "    <tr>\n",
       "      <th>24780</th>\n",
       "      <td>1</td>\n",
       "      <td>0</td>\n",
       "      <td>long bore blasphemous never glad see end credi...</td>\n",
       "      <td>52</td>\n",
       "    </tr>\n",
       "    <tr>\n",
       "      <th>14274</th>\n",
       "      <td>2</td>\n",
       "      <td>0</td>\n",
       "      <td>without doubt bad movie ever see funny interes...</td>\n",
       "      <td>55</td>\n",
       "    </tr>\n",
       "    <tr>\n",
       "      <th>16033</th>\n",
       "      <td>2</td>\n",
       "      <td>0</td>\n",
       "      <td>comment stupid movie act average bad screenpla...</td>\n",
       "      <td>58</td>\n",
       "    </tr>\n",
       "    <tr>\n",
       "      <th>21338</th>\n",
       "      <td>1</td>\n",
       "      <td>0</td>\n",
       "      <td>rating 1 begin express dull depressing relentl...</td>\n",
       "      <td>61</td>\n",
       "    </tr>\n",
       "    <tr>\n",
       "      <th>17280</th>\n",
       "      <td>1</td>\n",
       "      <td>0</td>\n",
       "      <td>see terrible pure trash see 17 year ago -PRON-...</td>\n",
       "      <td>61</td>\n",
       "    </tr>\n",
       "    <tr>\n",
       "      <th>19821</th>\n",
       "      <td>3</td>\n",
       "      <td>0</td>\n",
       "      <td>character unlikeable script awful waste talent...</td>\n",
       "      <td>62</td>\n",
       "    </tr>\n",
       "    <tr>\n",
       "      <th>2635</th>\n",
       "      <td>9</td>\n",
       "      <td>1</td>\n",
       "      <td>sandra must know would still nine year later b...</td>\n",
       "      <td>63</td>\n",
       "    </tr>\n",
       "    <tr>\n",
       "      <th>11490</th>\n",
       "      <td>10</td>\n",
       "      <td>1</td>\n",
       "      <td>definitive movie version hamlet branagh cut no...</td>\n",
       "      <td>64</td>\n",
       "    </tr>\n",
       "    <tr>\n",
       "      <th>914</th>\n",
       "      <td>10</td>\n",
       "      <td>1</td>\n",
       "      <td>think quiet good movie fun watch like best ' o...</td>\n",
       "      <td>66</td>\n",
       "    </tr>\n",
       "    <tr>\n",
       "      <th>24087</th>\n",
       "      <td>1</td>\n",
       "      <td>0</td>\n",
       "      <td>friend cheap would walk fail miserably satire ...</td>\n",
       "      <td>66</td>\n",
       "    </tr>\n",
       "    <tr>\n",
       "      <th>3129</th>\n",
       "      <td>10</td>\n",
       "      <td>1</td>\n",
       "      <td>movie always broadway movie classic long still...</td>\n",
       "      <td>68</td>\n",
       "    </tr>\n",
       "    <tr>\n",
       "      <th>11575</th>\n",
       "      <td>9</td>\n",
       "      <td>1</td>\n",
       "      <td>usual connery great job lawrence fishburn good...</td>\n",
       "      <td>71</td>\n",
       "    </tr>\n",
       "    <tr>\n",
       "      <th>1648</th>\n",
       "      <td>9</td>\n",
       "      <td>1</td>\n",
       "      <td>brilliant movie drawing amazing bad end begin ...</td>\n",
       "      <td>72</td>\n",
       "    </tr>\n",
       "    <tr>\n",
       "      <th>22320</th>\n",
       "      <td>1</td>\n",
       "      <td>0</td>\n",
       "      <td>unfunny unworthy picture undeserving seller ' ...</td>\n",
       "      <td>73</td>\n",
       "    </tr>\n",
       "    <tr>\n",
       "      <th>7273</th>\n",
       "      <td>10</td>\n",
       "      <td>1</td>\n",
       "      <td>great movie family love kid bore day pop tape ...</td>\n",
       "      <td>77</td>\n",
       "    </tr>\n",
       "    <tr>\n",
       "      <th>5646</th>\n",
       "      <td>10</td>\n",
       "      <td>1</td>\n",
       "      <td>think great movie ever make -PRON- have see ma...</td>\n",
       "      <td>77</td>\n",
       "    </tr>\n",
       "    <tr>\n",
       "      <th>3098</th>\n",
       "      <td>10</td>\n",
       "      <td>1</td>\n",
       "      <td>smallville episode justice good episode smallv...</td>\n",
       "      <td>78</td>\n",
       "    </tr>\n",
       "    <tr>\n",
       "      <th>17203</th>\n",
       "      <td>2</td>\n",
       "      <td>0</td>\n",
       "      <td>comment movie impossible terrible improbable b...</td>\n",
       "      <td>78</td>\n",
       "    </tr>\n",
       "    <tr>\n",
       "      <th>11410</th>\n",
       "      <td>10</td>\n",
       "      <td>1</td>\n",
       "      <td>smallville episode justice good episode smallv...</td>\n",
       "      <td>78</td>\n",
       "    </tr>\n",
       "    <tr>\n",
       "      <th>410</th>\n",
       "      <td>10</td>\n",
       "      <td>1</td>\n",
       "      <td>favorite movie great story really -PRON- would...</td>\n",
       "      <td>79</td>\n",
       "    </tr>\n",
       "    <tr>\n",
       "      <th>10029</th>\n",
       "      <td>10</td>\n",
       "      <td>1</td>\n",
       "      <td>really mean catch last night vh1 expect good f...</td>\n",
       "      <td>80</td>\n",
       "    </tr>\n",
       "    <tr>\n",
       "      <th>6462</th>\n",
       "      <td>10</td>\n",
       "      <td>1</td>\n",
       "      <td>movie call perfect bad intended way superb any...</td>\n",
       "      <td>81</td>\n",
       "    </tr>\n",
       "    <tr>\n",
       "      <th>16825</th>\n",
       "      <td>1</td>\n",
       "      <td>0</td>\n",
       "      <td>unwatchable can not even make past first three...</td>\n",
       "      <td>82</td>\n",
       "    </tr>\n",
       "    <tr>\n",
       "      <th>11666</th>\n",
       "      <td>10</td>\n",
       "      <td>1</td>\n",
       "      <td>film make john glover star alan raimy compelli...</td>\n",
       "      <td>83</td>\n",
       "    </tr>\n",
       "    <tr>\n",
       "      <th>...</th>\n",
       "      <td>...</td>\n",
       "      <td>...</td>\n",
       "      <td>...</td>\n",
       "      <td>...</td>\n",
       "    </tr>\n",
       "    <tr>\n",
       "      <th>12877</th>\n",
       "      <td>1</td>\n",
       "      <td>0</td>\n",
       "      <td>chris rock deserve better give earth direct br...</td>\n",
       "      <td>3956</td>\n",
       "    </tr>\n",
       "    <tr>\n",
       "      <th>6337</th>\n",
       "      <td>9</td>\n",
       "      <td>1</td>\n",
       "      <td>carrey back much role play mask timid guy try ...</td>\n",
       "      <td>3968</td>\n",
       "    </tr>\n",
       "    <tr>\n",
       "      <th>2112</th>\n",
       "      <td>10</td>\n",
       "      <td>1</td>\n",
       "      <td>angelopoulos ' film suspend step stork implici...</td>\n",
       "      <td>3988</td>\n",
       "    </tr>\n",
       "    <tr>\n",
       "      <th>19612</th>\n",
       "      <td>1</td>\n",
       "      <td>0</td>\n",
       "      <td>prior release neil labute say 1973 original su...</td>\n",
       "      <td>3991</td>\n",
       "    </tr>\n",
       "    <tr>\n",
       "      <th>15709</th>\n",
       "      <td>4</td>\n",
       "      <td>0</td>\n",
       "      <td>anyone visit drive 1950 60 70 must see film tw...</td>\n",
       "      <td>3996</td>\n",
       "    </tr>\n",
       "    <tr>\n",
       "      <th>9050</th>\n",
       "      <td>8</td>\n",
       "      <td>1</td>\n",
       "      <td>watch cliffhanger make nostalgic early ' 90 ti...</td>\n",
       "      <td>4003</td>\n",
       "    </tr>\n",
       "    <tr>\n",
       "      <th>3022</th>\n",
       "      <td>10</td>\n",
       "      <td>1</td>\n",
       "      <td>iphigenia mikhali cacoyannis perhaps first fil...</td>\n",
       "      <td>4012</td>\n",
       "    </tr>\n",
       "    <tr>\n",
       "      <th>6898</th>\n",
       "      <td>8</td>\n",
       "      <td>1</td>\n",
       "      <td>know dowdy queen victoria plump monarch virtua...</td>\n",
       "      <td>4040</td>\n",
       "    </tr>\n",
       "    <tr>\n",
       "      <th>8959</th>\n",
       "      <td>9</td>\n",
       "      <td>1</td>\n",
       "      <td>1987 hong kong give world film sammo hung 's e...</td>\n",
       "      <td>4042</td>\n",
       "    </tr>\n",
       "    <tr>\n",
       "      <th>15957</th>\n",
       "      <td>3</td>\n",
       "      <td>0</td>\n",
       "      <td>okay -PRON- be big video game buff game house ...</td>\n",
       "      <td>4060</td>\n",
       "    </tr>\n",
       "    <tr>\n",
       "      <th>11117</th>\n",
       "      <td>10</td>\n",
       "      <td>1</td>\n",
       "      <td>beat path important documentary look like attr...</td>\n",
       "      <td>4078</td>\n",
       "    </tr>\n",
       "    <tr>\n",
       "      <th>15498</th>\n",
       "      <td>3</td>\n",
       "      <td>0</td>\n",
       "      <td>warning spoilers galore br br tim burton remak...</td>\n",
       "      <td>4115</td>\n",
       "    </tr>\n",
       "    <tr>\n",
       "      <th>2296</th>\n",
       "      <td>8</td>\n",
       "      <td>1</td>\n",
       "      <td>four tale terror regard event creepy old mansi...</td>\n",
       "      <td>4122</td>\n",
       "    </tr>\n",
       "    <tr>\n",
       "      <th>964</th>\n",
       "      <td>10</td>\n",
       "      <td>1</td>\n",
       "      <td>director douglas sirk say there be short dista...</td>\n",
       "      <td>4203</td>\n",
       "    </tr>\n",
       "    <tr>\n",
       "      <th>13653</th>\n",
       "      <td>2</td>\n",
       "      <td>0</td>\n",
       "      <td>finish relatively short australian cinema run ...</td>\n",
       "      <td>4220</td>\n",
       "    </tr>\n",
       "    <tr>\n",
       "      <th>12785</th>\n",
       "      <td>1</td>\n",
       "      <td>0</td>\n",
       "      <td>heavy hand moralism writer use character mouth...</td>\n",
       "      <td>4514</td>\n",
       "    </tr>\n",
       "    <tr>\n",
       "      <th>500</th>\n",
       "      <td>10</td>\n",
       "      <td>1</td>\n",
       "      <td>warn contain spoilers br br open eye br br see...</td>\n",
       "      <td>4532</td>\n",
       "    </tr>\n",
       "    <tr>\n",
       "      <th>24140</th>\n",
       "      <td>1</td>\n",
       "      <td>0</td>\n",
       "      <td>movie recently release dvd -PRON- finally get ...</td>\n",
       "      <td>4554</td>\n",
       "    </tr>\n",
       "    <tr>\n",
       "      <th>24069</th>\n",
       "      <td>4</td>\n",
       "      <td>0</td>\n",
       "      <td>raise victor vargas review br br know raise vi...</td>\n",
       "      <td>4646</td>\n",
       "    </tr>\n",
       "    <tr>\n",
       "      <th>3340</th>\n",
       "      <td>9</td>\n",
       "      <td>1</td>\n",
       "      <td>berlin bear 1942 margarethe trotta actress imp...</td>\n",
       "      <td>4663</td>\n",
       "    </tr>\n",
       "    <tr>\n",
       "      <th>19979</th>\n",
       "      <td>1</td>\n",
       "      <td>0</td>\n",
       "      <td>warn review contain plot spoiler though nothin...</td>\n",
       "      <td>4664</td>\n",
       "    </tr>\n",
       "    <tr>\n",
       "      <th>2476</th>\n",
       "      <td>10</td>\n",
       "      <td>1</td>\n",
       "      <td>polish film maker walerian borowczyk 's bête 1...</td>\n",
       "      <td>4771</td>\n",
       "    </tr>\n",
       "    <tr>\n",
       "      <th>1371</th>\n",
       "      <td>10</td>\n",
       "      <td>1</td>\n",
       "      <td>develop world 's answer silence lambs silence ...</td>\n",
       "      <td>4943</td>\n",
       "    </tr>\n",
       "    <tr>\n",
       "      <th>7568</th>\n",
       "      <td>10</td>\n",
       "      <td>1</td>\n",
       "      <td>spoilers br br begin let say advantage see mov...</td>\n",
       "      <td>5377</td>\n",
       "    </tr>\n",
       "    <tr>\n",
       "      <th>24476</th>\n",
       "      <td>4</td>\n",
       "      <td>0</td>\n",
       "      <td>praise atlantis lose empire disney adventure a...</td>\n",
       "      <td>5423</td>\n",
       "    </tr>\n",
       "    <tr>\n",
       "      <th>6752</th>\n",
       "      <td>10</td>\n",
       "      <td>1</td>\n",
       "      <td>probably hear bit new disney dub miyazaki 's c...</td>\n",
       "      <td>5540</td>\n",
       "    </tr>\n",
       "    <tr>\n",
       "      <th>24976</th>\n",
       "      <td>4</td>\n",
       "      <td>0</td>\n",
       "      <td>praise _ atlantis _ the_lost_empire _ disney a...</td>\n",
       "      <td>5578</td>\n",
       "    </tr>\n",
       "    <tr>\n",
       "      <th>1423</th>\n",
       "      <td>9</td>\n",
       "      <td>1</td>\n",
       "      <td>attention spoilers br br first let say rob roy...</td>\n",
       "      <td>6202</td>\n",
       "    </tr>\n",
       "    <tr>\n",
       "      <th>3795</th>\n",
       "      <td>9</td>\n",
       "      <td>1</td>\n",
       "      <td>titanic direct james cameron present fictional...</td>\n",
       "      <td>6253</td>\n",
       "    </tr>\n",
       "    <tr>\n",
       "      <th>1846</th>\n",
       "      <td>9</td>\n",
       "      <td>1</td>\n",
       "      <td>match 1 tag team table match bubba ray spike d...</td>\n",
       "      <td>8681</td>\n",
       "    </tr>\n",
       "  </tbody>\n",
       "</table>\n",
       "<p>25000 rows × 4 columns</p>\n",
       "</div>"
      ],
      "text/plain": [
       "       Scores  Binary                                      Review_String  \\\n",
       "20149       3       0                         movie terrible good effect   \n",
       "17753       1       0                      rent even dollar rental night   \n",
       "22998       1       0            me merciless little bardwork movie foul   \n",
       "14128       3       0         better choose paul verhoeven 's even watch   \n",
       "7361       10       1      know like movie well never get tired watching   \n",
       "10043       9       1  adrian pasdar excellent film make fascinating ...   \n",
       "24780       1       0  long bore blasphemous never glad see end credi...   \n",
       "14274       2       0  without doubt bad movie ever see funny interes...   \n",
       "16033       2       0  comment stupid movie act average bad screenpla...   \n",
       "21338       1       0  rating 1 begin express dull depressing relentl...   \n",
       "17280       1       0  see terrible pure trash see 17 year ago -PRON-...   \n",
       "19821       3       0  character unlikeable script awful waste talent...   \n",
       "2635        9       1  sandra must know would still nine year later b...   \n",
       "11490      10       1  definitive movie version hamlet branagh cut no...   \n",
       "914        10       1  think quiet good movie fun watch like best ' o...   \n",
       "24087       1       0  friend cheap would walk fail miserably satire ...   \n",
       "3129       10       1  movie always broadway movie classic long still...   \n",
       "11575       9       1  usual connery great job lawrence fishburn good...   \n",
       "1648        9       1  brilliant movie drawing amazing bad end begin ...   \n",
       "22320       1       0  unfunny unworthy picture undeserving seller ' ...   \n",
       "7273       10       1  great movie family love kid bore day pop tape ...   \n",
       "5646       10       1  think great movie ever make -PRON- have see ma...   \n",
       "3098       10       1  smallville episode justice good episode smallv...   \n",
       "17203       2       0  comment movie impossible terrible improbable b...   \n",
       "11410      10       1  smallville episode justice good episode smallv...   \n",
       "410        10       1  favorite movie great story really -PRON- would...   \n",
       "10029      10       1  really mean catch last night vh1 expect good f...   \n",
       "6462       10       1  movie call perfect bad intended way superb any...   \n",
       "16825       1       0  unwatchable can not even make past first three...   \n",
       "11666      10       1  film make john glover star alan raimy compelli...   \n",
       "...       ...     ...                                                ...   \n",
       "12877       1       0  chris rock deserve better give earth direct br...   \n",
       "6337        9       1  carrey back much role play mask timid guy try ...   \n",
       "2112       10       1  angelopoulos ' film suspend step stork implici...   \n",
       "19612       1       0  prior release neil labute say 1973 original su...   \n",
       "15709       4       0  anyone visit drive 1950 60 70 must see film tw...   \n",
       "9050        8       1  watch cliffhanger make nostalgic early ' 90 ti...   \n",
       "3022       10       1  iphigenia mikhali cacoyannis perhaps first fil...   \n",
       "6898        8       1  know dowdy queen victoria plump monarch virtua...   \n",
       "8959        9       1  1987 hong kong give world film sammo hung 's e...   \n",
       "15957       3       0  okay -PRON- be big video game buff game house ...   \n",
       "11117      10       1  beat path important documentary look like attr...   \n",
       "15498       3       0  warning spoilers galore br br tim burton remak...   \n",
       "2296        8       1  four tale terror regard event creepy old mansi...   \n",
       "964        10       1  director douglas sirk say there be short dista...   \n",
       "13653       2       0  finish relatively short australian cinema run ...   \n",
       "12785       1       0  heavy hand moralism writer use character mouth...   \n",
       "500        10       1  warn contain spoilers br br open eye br br see...   \n",
       "24140       1       0  movie recently release dvd -PRON- finally get ...   \n",
       "24069       4       0  raise victor vargas review br br know raise vi...   \n",
       "3340        9       1  berlin bear 1942 margarethe trotta actress imp...   \n",
       "19979       1       0  warn review contain plot spoiler though nothin...   \n",
       "2476       10       1  polish film maker walerian borowczyk 's bête 1...   \n",
       "1371       10       1  develop world 's answer silence lambs silence ...   \n",
       "7568       10       1  spoilers br br begin let say advantage see mov...   \n",
       "24476       4       0  praise atlantis lose empire disney adventure a...   \n",
       "6752       10       1  probably hear bit new disney dub miyazaki 's c...   \n",
       "24976       4       0  praise _ atlantis _ the_lost_empire _ disney a...   \n",
       "1423        9       1  attention spoilers br br first let say rob roy...   \n",
       "3795        9       1  titanic direct james cameron present fictional...   \n",
       "1846        9       1  match 1 tag team table match bubba ray spike d...   \n",
       "\n",
       "       length  \n",
       "20149      26  \n",
       "17753      29  \n",
       "22998      39  \n",
       "14128      42  \n",
       "7361       45  \n",
       "10043      51  \n",
       "24780      52  \n",
       "14274      55  \n",
       "16033      58  \n",
       "21338      61  \n",
       "17280      61  \n",
       "19821      62  \n",
       "2635       63  \n",
       "11490      64  \n",
       "914        66  \n",
       "24087      66  \n",
       "3129       68  \n",
       "11575      71  \n",
       "1648       72  \n",
       "22320      73  \n",
       "7273       77  \n",
       "5646       77  \n",
       "3098       78  \n",
       "17203      78  \n",
       "11410      78  \n",
       "410        79  \n",
       "10029      80  \n",
       "6462       81  \n",
       "16825      82  \n",
       "11666      83  \n",
       "...       ...  \n",
       "12877    3956  \n",
       "6337     3968  \n",
       "2112     3988  \n",
       "19612    3991  \n",
       "15709    3996  \n",
       "9050     4003  \n",
       "3022     4012  \n",
       "6898     4040  \n",
       "8959     4042  \n",
       "15957    4060  \n",
       "11117    4078  \n",
       "15498    4115  \n",
       "2296     4122  \n",
       "964      4203  \n",
       "13653    4220  \n",
       "12785    4514  \n",
       "500      4532  \n",
       "24140    4554  \n",
       "24069    4646  \n",
       "3340     4663  \n",
       "19979    4664  \n",
       "2476     4771  \n",
       "1371     4943  \n",
       "7568     5377  \n",
       "24476    5423  \n",
       "6752     5540  \n",
       "24976    5578  \n",
       "1423     6202  \n",
       "3795     6253  \n",
       "1846     8681  \n",
       "\n",
       "[25000 rows x 4 columns]"
      ]
     },
     "execution_count": 495,
     "metadata": {},
     "output_type": "execute_result"
    }
   ],
   "source": [
    "Movies.drop(columns=['Reviews'])"
   ]
  },
  {
   "cell_type": "code",
   "execution_count": 468,
   "metadata": {},
   "outputs": [
    {
     "data": {
      "text/plain": [
       "Text(0, 0.5, 'Review Count')"
      ]
     },
     "execution_count": 468,
     "metadata": {},
     "output_type": "execute_result"
    },
    {
     "data": {
      "image/png": "[encoded data removed]",
      "text/plain": [
       "<Figure size 432x288 with 1 Axes>"
      ]
     },
     "metadata": {
      "needs_background": "light"
     },
     "output_type": "display_data"
    }
   ],
   "source": [
    "plt.hist(Movies['Scores'], bins = 10, color = \"c\", ec=\"k\")\n",
    "plt.title('Distribution of Movie Ratings')\n",
    "plt.xlabel('Rating')\n",
    "plt.ylabel('Review Count')"
   ]
  },
  {
   "cell_type": "code",
   "execution_count": null,
   "metadata": {
    "collapsed": true
   },
   "outputs": [],
   "source": [
    "\n",
    "from sklearn.feature_extraction.text import CountVectorizer, TfidfVectorizer"
   ]
  },
  {
   "cell_type": "code",
   "execution_count": 284,
   "metadata": {},
   "outputs": [],
   "source": [
    "tf_vectorizer = CountVectorizer(lowercase=False)\n",
    "\n",
    "vectorized = (tf_vectorizer.fit_transform(Movies['Review_String']))\n"
   ]
  },
  {
   "cell_type": "code",
   "execution_count": 422,
   "metadata": {},
   "outputs": [
    {
     "data": {
      "text/plain": [
       "(array([51907, 18430, 16801, 56934, 37996, 62840, 36633, 15773,  7861,\n",
       "        51166, 22201, 53395, 18652, 50410, 31699, 29968, 50275, 23754,\n",
       "         5254, 11558, 19497,  4630, 48322, 43686, 13371, 38938, 15252,\n",
       "        62763, 22223, 24178, 61784, 18044, 15433,  2872,  6126, 36810,\n",
       "        55562, 12899, 31369, 36402,  8379, 62620, 20042, 28230, 39044,\n",
       "        12508, 53790, 46261, 56841, 57560, 44451,  6704,  8031, 25876,\n",
       "         7987, 13189, 38036, 41514, 10061, 45728, 14382, 42454, 38386,\n",
       "        37675,  9107, 62252, 45794, 25921, 22723, 24531, 54885,  4182,\n",
       "        42139, 52031, 52299, 24669, 37367, 60140, 52752, 44415, 47970,\n",
       "        21007, 58633, 45796, 13287, 53873, 19806, 19983, 20687, 26976,\n",
       "         6481, 43638, 49558, 33877, 38047], dtype=int32), 'jr')"
      ]
     },
     "execution_count": 422,
     "metadata": {},
     "output_type": "execute_result"
    }
   ],
   "source": [
    "vectorized[1].indices, tf_vectorizer.get_feature_names()[vectorized[0].indices[2]]"
   ]
  },
  {
   "cell_type": "code",
   "execution_count": 435,
   "metadata": {},
   "outputs": [
    {
     "name": "stdout",
     "output_type": "stream",
     "text": [
      "[0.9086330849834293, 0.36697009691947924, 0.19929592278921335]\n"
     ]
    }
   ],
   "source": [
    "tfidf_vectorizer = TfidfVectorizer(lowercase=False, stop_words='english', max_features=10000)\n",
    "\n",
    "tfidf = tfidf_vectorizer.fit_transform(Movies['Review_String'])\n",
    "\n",
    "print([ x for x in tfidf[2].toarray()[0] if x!=0])"
   ]
  },
  {
   "cell_type": "markdown",
   "metadata": {},
   "source": [
    "### Random Forest on Binary Scores"
   ]
  },
  {
   "cell_type": "code",
   "execution_count": 440,
   "metadata": {},
   "outputs": [],
   "source": [
    "\n",
    "X_train, X_test, y_train, y_test = train_test_split(tfidf, Movies['Binary'],\\\n",
    "                                                    test_size=0.2, random_state=0)"
   ]
  },
  {
   "cell_type": "code",
   "execution_count": 441,
   "metadata": {},
   "outputs": [
    {
     "data": {
      "text/plain": [
       "RandomForestClassifier(bootstrap=True, class_weight=None, criterion='gini',\n",
       "            max_depth=12, max_features='auto', max_leaf_nodes=None,\n",
       "            min_impurity_decrease=0.0, min_impurity_split=None,\n",
       "            min_samples_leaf=1, min_samples_split=2,\n",
       "            min_weight_fraction_leaf=0.0, n_estimators=1000, n_jobs=-1,\n",
       "            oob_score=False, random_state=None, verbose=0,\n",
       "            warm_start=False)"
      ]
     },
     "execution_count": 441,
     "metadata": {},
     "output_type": "execute_result"
    }
   ],
   "source": [
    "rf_d10 = RandomForestClassifier(n_estimators=1000, max_depth=12, n_jobs = -1)\n",
    "rf_d10.fit(X_train, y_train)\n"
   ]
  },
  {
   "cell_type": "code",
   "execution_count": 442,
   "metadata": {},
   "outputs": [
    {
     "data": {
      "text/plain": [
       "(20000, 10000)"
      ]
     },
     "execution_count": 442,
     "metadata": {},
     "output_type": "execute_result"
    }
   ],
   "source": [
    "X_train.shape"
   ]
  },
  {
   "cell_type": "code",
   "execution_count": 443,
   "metadata": {},
   "outputs": [
    {
     "data": {
      "text/plain": [
       "0.827"
      ]
     },
     "execution_count": 443,
     "metadata": {},
     "output_type": "execute_result"
    }
   ],
   "source": [
    "rf_d10.score(X_test, y_test)"
   ]
  },
  {
   "cell_type": "code",
   "execution_count": null,
   "metadata": {},
   "outputs": [],
   "source": []
  },
  {
   "cell_type": "code",
   "execution_count": 427,
   "metadata": {},
   "outputs": [
    {
     "name": "stdout",
     "output_type": "stream",
     "text": [
      "Feature ranking:\n",
      "(1, 'bad', 0.05447833593677261)\n",
      "(2, 'great', 0.025200529530232822)\n",
      "(3, 'waste', 0.02196928922458016)\n",
      "(4, 'awful', 0.01983197035245915)\n",
      "(5, 'terrible', 0.014131709168887046)\n",
      "(6, 'wonderful', 0.01370087887645867)\n",
      "(7, 'excellent', 0.012880034744385345)\n",
      "(8, 'love', 0.012483221011260428)\n",
      "(9, 'money', 0.010770918655378386)\n",
      "(10, 'stupid', 0.010315567361893733)\n",
      "(11, 'crap', 0.01000901536489335)\n",
      "(12, 'minute', 0.009379390638091805)\n",
      "(13, 'suppose', 0.009327173458267739)\n",
      "(14, 'plot', 0.00928294828428864)\n",
      "(15, 'horrible', 0.009075350262210909)\n",
      "(16, 'enjoy', 0.008337502695439043)\n",
      "(17, 'poor', 0.007825124155961117)\n",
      "(18, 'script', 0.007275898142161297)\n",
      "(19, 'movie', 0.006785860190620155)\n",
      "(20, 'amazing', 0.006489994756020808)\n",
      "(21, 'perfect', 0.00636723391475398)\n",
      "(22, 'bore', 0.006345639247153752)\n",
      "(23, 'avoid', 0.006312268388898658)\n",
      "(24, 'favorite', 0.0061201039584592954)\n",
      "(25, 'poorly', 0.00598832861791029)\n",
      "(26, 'performance', 0.0059381551597405356)\n",
      "(27, 'lame', 0.0055724536596428445)\n",
      "(28, 'instead', 0.0054584346140984785)\n",
      "(29, 'dull', 0.005401525964747854)\n",
      "(30, 'save', 0.005236020629866238)\n",
      "(31, 'boring', 0.005084221102888912)\n",
      "(32, 'act', 0.004926774629423114)\n",
      "(33, 'pointless', 0.004815794897961799)\n",
      "(34, 'mess', 0.004738633418512621)\n",
      "(35, 'highly', 0.004635470000653354)\n",
      "(36, 'brilliant', 0.004617570057833254)\n",
      "(37, 'try', 0.004589651467353912)\n",
      "(38, 'look', 0.004307155661374525)\n",
      "(39, 'beautiful', 0.00420843365729984)\n",
      "(40, 'unfortunately', 0.004038009194295535)\n",
      "(41, 'ridiculous', 0.004018312468059243)\n",
      "(42, 'fail', 0.003967239037187769)\n",
      "(43, 'badly', 0.003918191100013814)\n",
      "(44, 'annoying', 0.003810096825244633)\n",
      "(45, 'fantastic', 0.003736090000363917)\n",
      "(46, 'life', 0.003699020805841619)\n",
      "(47, 'heart', 0.0036901489806476255)\n",
      "(48, 'unless', 0.0035539979063599074)\n",
      "(49, 'pathetic', 0.0035144811493165633)\n",
      "(50, 'attempt', 0.003171414173295971)\n",
      "(51, 'today', 0.003147340220592576)\n",
      "(52, 'make', 0.003102313516963157)\n",
      "(53, 'suck', 0.003004079071603089)\n",
      "(54, 'oh', 0.002842317807329458)\n",
      "(55, 'redeem', 0.0028365188809205888)\n",
      "(56, 'decent', 0.0028275257451241937)\n",
      "(57, 'laughable', 0.0028273190634798277)\n",
      "(58, 'lack', 0.002785371893596777)\n",
      "(59, 'like', 0.002765567900685283)\n",
      "(60, 'beautifully', 0.00276036134868137)\n",
      "(61, 'cheap', 0.002705953242204083)\n",
      "(62, 'touch', 0.0025810615803071057)\n",
      "(63, 'reason', 0.0025670791449738444)\n",
      "(64, 'dumb', 0.002548418762749)\n",
      "(65, 'say', 0.002507478960598193)\n",
      "(66, 'sorry', 0.0025016330184121026)\n",
      "(67, 'fun', 0.002480618061541602)\n",
      "(68, 'idea', 0.002478871384381512)\n",
      "(69, 'superb', 0.0024698459464922787)\n",
      "(70, 'PRON', 0.0024439482333282734)\n",
      "(71, 'good', 0.0023841656545793947)\n",
      "(72, 'disappointment', 0.0023752987522869394)\n",
      "(73, 'bother', 0.0023509812888925737)\n",
      "(74, 'br', 0.0023296396278526094)\n",
      "(75, 'half', 0.002307410157228534)\n",
      "(76, 'strong', 0.002300734188042434)\n",
      "(77, 'thing', 0.0022232711982084663)\n",
      "(78, 'world', 0.0021799443105438156)\n",
      "(79, 'recommend', 0.002155707878687594)\n",
      "(80, 'role', 0.002139989954106536)\n",
      "(81, 'hour', 0.002117130308566292)\n",
      "(82, 'predictable', 0.0020939200320453572)\n",
      "(83, 'guess', 0.0020702729660489172)\n",
      "(84, 'low', 0.0020264753904105353)\n",
      "(85, 'especially', 0.002017739091895642)\n",
      "(86, 'family', 0.0020175440664456385)\n",
      "(87, 'definitely', 0.001994559890161408)\n",
      "(88, 'true', 0.0019935015882125763)\n",
      "(89, 'insult', 0.0019934248252614826)\n",
      "(90, 'young', 0.0018406466698205172)\n",
      "(91, 'different', 0.0018241741693501296)\n",
      "(92, 'powerful', 0.0017188391545270793)\n",
      "(93, 'lousy', 0.0017147549096004442)\n",
      "(94, 'classic', 0.0017001044337963242)\n",
      "(95, 'garbage', 0.0016921349124821591)\n",
      "(96, 'kill', 0.001647923648636661)\n",
      "(97, 'job', 0.0016308344777572973)\n",
      "(98, 'year', 0.0015992365546276621)\n",
      "(99, 'story', 0.0015856064688858753)\n",
      "(100, 'best', 0.0015619946289395295)\n"
     ]
    }
   ],
   "source": [
    "importances = rf_d10.feature_importances_\n",
    "#std = np.std([tree.feature_importances_ for tree in forest.estimators_],\n",
    "#             axis=0)\n",
    "indices = np.argsort(importances)[::-1]\n",
    "\n",
    "# Print the feature ranking\n",
    "print(\"Feature ranking:\")\n",
    "\n",
    "for f in range(100):\n",
    "    print((f + 1, tfidf_vectorizer.get_feature_names()[indices[f]], importances[indices[f]]))"
   ]
  },
  {
   "cell_type": "code",
   "execution_count": 371,
   "metadata": {},
   "outputs": [],
   "source": [
    "# plt.figure()\n",
    "# plt.title(\"Feature importances\")\n",
    "# plt.bar(range(X_train.shape[1]), importances[indices],\n",
    "#        color=\"r\", yerr=std[indices], align=\"center\")\n",
    "# plt.xticks(range(X_train.shape[1]), indices)\n",
    "# plt.xlim([-1, X_train.shape[1]])\n",
    "# plt.show()"
   ]
  },
  {
   "cell_type": "code",
   "execution_count": 400,
   "metadata": {},
   "outputs": [
    {
     "data": {
      "text/plain": [
       "'backroom'"
      ]
     },
     "execution_count": 400,
     "metadata": {},
     "output_type": "execute_result"
    }
   ],
   "source": [
    "tf_vectorizer.get_feature_names()[4691]"
   ]
  },
  {
   "cell_type": "code",
   "execution_count": 401,
   "metadata": {},
   "outputs": [
    {
     "data": {
      "text/plain": [
       "807"
      ]
     },
     "execution_count": 401,
     "metadata": {},
     "output_type": "execute_result"
    }
   ],
   "source": [
    "indices[0]"
   ]
  },
  {
   "cell_type": "markdown",
   "metadata": {},
   "source": [
    "### Regression"
   ]
  },
  {
   "cell_type": "code",
   "execution_count": 315,
   "metadata": {},
   "outputs": [],
   "source": [
    "from sklearn.linear_model import LogisticRegression\n",
    "logreg = LogisticRegression()"
   ]
  },
  {
   "cell_type": "code",
   "execution_count": 359,
   "metadata": {},
   "outputs": [],
   "source": [
    "\n",
    "X_train, X_test, y_train, y_test = train_test_split(tfidf, Movies['Binary'],\\\n",
    "                                                    test_size=0.2, random_state=0)"
   ]
  },
  {
   "cell_type": "code",
   "execution_count": 360,
   "metadata": {},
   "outputs": [
    {
     "name": "stdout",
     "output_type": "stream",
     "text": [
      "Accuracy on test set:\n"
     ]
    },
    {
     "data": {
      "text/plain": [
       "0.8802"
      ]
     },
     "execution_count": 360,
     "metadata": {},
     "output_type": "execute_result"
    }
   ],
   "source": [
    "logreg.fit(X_train, y_train)\n",
    "y_pred_train = logreg.predict(X_train)\n",
    "print(\"Accuracy on test set:\")\n",
    "logreg.score(X_test, y_test)"
   ]
  },
  {
   "cell_type": "code",
   "execution_count": null,
   "metadata": {},
   "outputs": [],
   "source": []
  },
  {
   "cell_type": "code",
   "execution_count": 407,
   "metadata": {},
   "outputs": [],
   "source": [
    "# roc_d10 = roc_curve(y_test, rf_d10.predict_proba(X_test)[:,1], pos_label='1')\n",
    "\n",
    "# plt.figure()\n",
    "# lw = 2\n",
    "\n",
    "# plt.plot(roc_d10, color='c',\n",
    "#          lw=lw, label='Random Forest, max depth=10')\n",
    "# plt.plot([0, 1], [0, 1], color='black', lw=lw, linestyle='--')\n",
    "# plt.xlim([0.0, 1.0])\n",
    "# plt.ylim([0.0, 1.05])\n",
    "# plt.xlabel('False Positive Rate')\n",
    "# plt.ylabel('True Positive Rate')\n",
    "# plt.title('Receiver operating characteristic example')\n",
    "# plt.legend(loc=\"lower right\")\n",
    "# plt.show()"
   ]
  },
  {
   "cell_type": "code",
   "execution_count": null,
   "metadata": {},
   "outputs": [],
   "source": []
  },
  {
   "cell_type": "code",
   "execution_count": 408,
   "metadata": {},
   "outputs": [],
   "source": [
    "#keras implementation\n",
    "Movies['length']= Movies['Review_String'].str.len()\n",
    "Movies.sort_values('length', ascending=True, inplace= True)"
   ]
  },
  {
   "cell_type": "code",
   "execution_count": 409,
   "metadata": {},
   "outputs": [],
   "source": [
    "Movies2 = Movies.iloc[:20000,:]"
   ]
  },
  {
   "cell_type": "code",
   "execution_count": null,
   "metadata": {},
   "outputs": [],
   "source": [
    "from keras.utils import to_categorical\n",
    "from keras.preprocessing.text"
   ]
  }
 ],
 "metadata": {
  "kernelspec": {
   "display_name": "Python 3",
   "language": "python",
   "name": "python3"
  },
  "language_info": {
   "codemirror_mode": {
    "name": "ipython",
    "version": 3
   },
   "file_extension": ".py",
   "mimetype": "text/x-python",
   "name": "python",
   "nbconvert_exporter": "python",
   "pygments_lexer": "ipython3",
   "version": "3.7.3"
  }
 },
 "nbformat": 4,
 "nbformat_minor": 2
}
